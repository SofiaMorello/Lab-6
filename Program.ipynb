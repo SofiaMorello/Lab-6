{
 "cells": [
  {
   "cell_type": "code",
   "execution_count": 1,
   "metadata": {},
   "outputs": [
    {
     "name": "stdin",
     "output_type": "stream",
     "text": [
<<<<<<< HEAD
      "What's your name? Sofia\n",
      "How old are you? 19\n"
=======
      "What's your name? Michelle\n",
      "How old are you? 18\n"
>>>>>>> 95bebab1fb904a4fcf0817517c674cf400a8e17d
     ]
    },
    {
     "name": "stdout",
     "output_type": "stream",
     "text": [
<<<<<<< HEAD
      "Hi Sofia! You are 19 years old.\n"
=======
      "Hi Michelle! You are 18 years old.\n"
>>>>>>> 95bebab1fb904a4fcf0817517c674cf400a8e17d
     ]
    }
   ],
   "source": [
    "yourname = input(prompt = \"What's your name?\")\n",
    "age = input(prompt = \"How old are you?\")\n",
    "print(\"Hi\", yourname + \"!\" + \" \" + \"You are\", age, \"years old.\")"
   ]
  },
  {
   "cell_type": "code",
   "execution_count": null,
   "metadata": {},
   "outputs": [],
   "source": []
  }
 ],
 "metadata": {
  "kernelspec": {
   "display_name": "Python 3",
   "language": "python",
   "name": "python3"
  },
  "language_info": {
   "codemirror_mode": {
    "name": "ipython",
    "version": 3
   },
   "file_extension": ".py",
   "mimetype": "text/x-python",
   "name": "python",
   "nbconvert_exporter": "python",
   "pygments_lexer": "ipython3",
   "version": "3.8.3"
  }
 },
 "nbformat": 4,
 "nbformat_minor": 4
}
